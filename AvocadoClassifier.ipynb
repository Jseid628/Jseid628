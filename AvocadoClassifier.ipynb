{
 "cells": [
  {
   "cell_type": "code",
   "execution_count": 47,
   "metadata": {},
   "outputs": [],
   "source": [
    "import numpy as np\n",
    "import pandas as pd\n",
    "import torch\n",
    "from sklearn.preprocessing import LabelEncoder\n",
    "from sklearn.preprocessing import MinMaxScaler\n",
    "from sklearn.model_selection import train_test_split\n",
    "import torch.nn as nn"
   ]
  },
  {
   "cell_type": "code",
   "execution_count": 48,
   "metadata": {},
   "outputs": [
    {
     "data": {
      "text/html": [
       "<div>\n",
       "<style scoped>\n",
       "    .dataframe tbody tr th:only-of-type {\n",
       "        vertical-align: middle;\n",
       "    }\n",
       "\n",
       "    .dataframe tbody tr th {\n",
       "        vertical-align: top;\n",
       "    }\n",
       "\n",
       "    .dataframe thead th {\n",
       "        text-align: right;\n",
       "    }\n",
       "</style>\n",
       "<table border=\"1\" class=\"dataframe\">\n",
       "  <thead>\n",
       "    <tr style=\"text-align: right;\">\n",
       "      <th></th>\n",
       "      <th>firmness</th>\n",
       "      <th>hue</th>\n",
       "      <th>saturation</th>\n",
       "      <th>brightness</th>\n",
       "      <th>color_category</th>\n",
       "      <th>sound_db</th>\n",
       "      <th>weight_g</th>\n",
       "      <th>size_cm3</th>\n",
       "      <th>ripeness</th>\n",
       "    </tr>\n",
       "  </thead>\n",
       "  <tbody>\n",
       "    <tr>\n",
       "      <th>0</th>\n",
       "      <td>14.5</td>\n",
       "      <td>19</td>\n",
       "      <td>40</td>\n",
       "      <td>26</td>\n",
       "      <td>black</td>\n",
       "      <td>34</td>\n",
       "      <td>175</td>\n",
       "      <td>261</td>\n",
       "      <td>ripe</td>\n",
       "    </tr>\n",
       "    <tr>\n",
       "      <th>1</th>\n",
       "      <td>71.7</td>\n",
       "      <td>53</td>\n",
       "      <td>69</td>\n",
       "      <td>75</td>\n",
       "      <td>green</td>\n",
       "      <td>69</td>\n",
       "      <td>206</td>\n",
       "      <td>185</td>\n",
       "      <td>pre-conditioned</td>\n",
       "    </tr>\n",
       "    <tr>\n",
       "      <th>2</th>\n",
       "      <td>88.5</td>\n",
       "      <td>60</td>\n",
       "      <td>94</td>\n",
       "      <td>46</td>\n",
       "      <td>dark green</td>\n",
       "      <td>79</td>\n",
       "      <td>220</td>\n",
       "      <td>143</td>\n",
       "      <td>hard</td>\n",
       "    </tr>\n",
       "    <tr>\n",
       "      <th>3</th>\n",
       "      <td>93.8</td>\n",
       "      <td>105</td>\n",
       "      <td>87</td>\n",
       "      <td>41</td>\n",
       "      <td>dark green</td>\n",
       "      <td>75</td>\n",
       "      <td>299</td>\n",
       "      <td>140</td>\n",
       "      <td>hard</td>\n",
       "    </tr>\n",
       "    <tr>\n",
       "      <th>4</th>\n",
       "      <td>42.5</td>\n",
       "      <td>303</td>\n",
       "      <td>58</td>\n",
       "      <td>32</td>\n",
       "      <td>purple</td>\n",
       "      <td>63</td>\n",
       "      <td>200</td>\n",
       "      <td>227</td>\n",
       "      <td>breaking</td>\n",
       "    </tr>\n",
       "  </tbody>\n",
       "</table>\n",
       "</div>"
      ],
      "text/plain": [
       "   firmness  hue  saturation  brightness color_category  sound_db  weight_g  \\\n",
       "0      14.5   19          40          26          black        34       175   \n",
       "1      71.7   53          69          75          green        69       206   \n",
       "2      88.5   60          94          46     dark green        79       220   \n",
       "3      93.8  105          87          41     dark green        75       299   \n",
       "4      42.5  303          58          32         purple        63       200   \n",
       "\n",
       "   size_cm3         ripeness  \n",
       "0       261             ripe  \n",
       "1       185  pre-conditioned  \n",
       "2       143             hard  \n",
       "3       140             hard  \n",
       "4       227         breaking  "
      ]
     },
     "execution_count": 48,
     "metadata": {},
     "output_type": "execute_result"
    }
   ],
   "source": [
    "data = pd.read_csv(\"/Users/jesseseid/Jseid628/avocado_ripeness_dataset.csv\")\n",
    "data.head()"
   ]
  },
  {
   "cell_type": "code",
   "execution_count": 49,
   "metadata": {},
   "outputs": [
    {
     "data": {
      "text/html": [
       "<div>\n",
       "<style scoped>\n",
       "    .dataframe tbody tr th:only-of-type {\n",
       "        vertical-align: middle;\n",
       "    }\n",
       "\n",
       "    .dataframe tbody tr th {\n",
       "        vertical-align: top;\n",
       "    }\n",
       "\n",
       "    .dataframe thead th {\n",
       "        text-align: right;\n",
       "    }\n",
       "</style>\n",
       "<table border=\"1\" class=\"dataframe\">\n",
       "  <thead>\n",
       "    <tr style=\"text-align: right;\">\n",
       "      <th></th>\n",
       "      <th>firmness</th>\n",
       "      <th>hue</th>\n",
       "      <th>saturation</th>\n",
       "      <th>brightness</th>\n",
       "      <th>color_category</th>\n",
       "      <th>sound_db</th>\n",
       "      <th>weight_g</th>\n",
       "      <th>size_cm3</th>\n",
       "    </tr>\n",
       "  </thead>\n",
       "  <tbody>\n",
       "    <tr>\n",
       "      <th>0</th>\n",
       "      <td>14.5</td>\n",
       "      <td>19</td>\n",
       "      <td>40</td>\n",
       "      <td>26</td>\n",
       "      <td>0</td>\n",
       "      <td>34</td>\n",
       "      <td>175</td>\n",
       "      <td>261</td>\n",
       "    </tr>\n",
       "    <tr>\n",
       "      <th>1</th>\n",
       "      <td>71.7</td>\n",
       "      <td>53</td>\n",
       "      <td>69</td>\n",
       "      <td>75</td>\n",
       "      <td>2</td>\n",
       "      <td>69</td>\n",
       "      <td>206</td>\n",
       "      <td>185</td>\n",
       "    </tr>\n",
       "    <tr>\n",
       "      <th>2</th>\n",
       "      <td>88.5</td>\n",
       "      <td>60</td>\n",
       "      <td>94</td>\n",
       "      <td>46</td>\n",
       "      <td>1</td>\n",
       "      <td>79</td>\n",
       "      <td>220</td>\n",
       "      <td>143</td>\n",
       "    </tr>\n",
       "    <tr>\n",
       "      <th>3</th>\n",
       "      <td>93.8</td>\n",
       "      <td>105</td>\n",
       "      <td>87</td>\n",
       "      <td>41</td>\n",
       "      <td>1</td>\n",
       "      <td>75</td>\n",
       "      <td>299</td>\n",
       "      <td>140</td>\n",
       "    </tr>\n",
       "    <tr>\n",
       "      <th>4</th>\n",
       "      <td>42.5</td>\n",
       "      <td>303</td>\n",
       "      <td>58</td>\n",
       "      <td>32</td>\n",
       "      <td>3</td>\n",
       "      <td>63</td>\n",
       "      <td>200</td>\n",
       "      <td>227</td>\n",
       "    </tr>\n",
       "  </tbody>\n",
       "</table>\n",
       "</div>"
      ],
      "text/plain": [
       "   firmness  hue  saturation  brightness  color_category  sound_db  weight_g  \\\n",
       "0      14.5   19          40          26               0        34       175   \n",
       "1      71.7   53          69          75               2        69       206   \n",
       "2      88.5   60          94          46               1        79       220   \n",
       "3      93.8  105          87          41               1        75       299   \n",
       "4      42.5  303          58          32               3        63       200   \n",
       "\n",
       "   size_cm3  \n",
       "0       261  \n",
       "1       185  \n",
       "2       143  \n",
       "3       140  \n",
       "4       227  "
      ]
     },
     "execution_count": 49,
     "metadata": {},
     "output_type": "execute_result"
    }
   ],
   "source": [
    "#Pre-processing\n",
    "\n",
    "#Categorical to Numerical\n",
    "le = LabelEncoder()\n",
    "data['color_category'] = le.fit_transform(data['color_category'])\n",
    "\n",
    "ripe_types = data['ripeness'].unique()\n",
    "data['ripeness'].replace(ripe_types, list(range(0,5)), inplace=True)\n",
    "\n",
    "labels = data['ripeness']\n",
    "del data['ripeness']\n",
    "features = data\n",
    "data.head()"
   ]
  },
  {
   "cell_type": "code",
   "execution_count": 50,
   "metadata": {},
   "outputs": [
    {
     "name": "stdout",
     "output_type": "stream",
     "text": [
      "torch.Size([200, 8])\n",
      "torch.Size([50, 8])\n",
      "torch.Size([200])\n",
      "torch.Size([50])\n"
     ]
    }
   ],
   "source": [
    "#Split into test and train before conversion to tensors\n",
    "features_train, features_test, labels_train, labels_test = train_test_split(features, labels, test_size = 0.2, random_state=42)\n",
    "\n",
    "scaler = MinMaxScaler()\n",
    "features_train_scaled = scaler.fit_transform(features_train)\n",
    "features_test_scaled = scaler.transform(features_test)\n",
    "\n",
    "#Convert features and labels to torch tensors\n",
    "features_train_tensor = torch.tensor(features_train_scaled, dtype=torch.float32)\n",
    "features_test_tensor = torch.tensor(features_test_scaled, dtype=torch.float32)\n",
    "\n",
    "labels_train_tensor = torch.tensor(labels_train.values, dtype=torch.int64)\n",
    "labels_test_tensor = torch.tensor(labels_test.values, dtype=torch.int64)\n",
    "\n",
    "test_train_tensors = [features_train_tensor,features_test_tensor, labels_train_tensor, labels_test_tensor]\n",
    "for tensor in test_train_tensors:\n",
    "    print(str(tensor.shape))"
   ]
  },
  {
   "cell_type": "code",
   "execution_count": 51,
   "metadata": {},
   "outputs": [],
   "source": [
    "#Neural Network Definition\n",
    "class NeuralNetwork(nn.Module):\n",
    "    def __init__(self):\n",
    "        super().__init__()\n",
    "        self.fc1 = nn.Linear(8, 50)\n",
    "        self.fc2 = nn.Linear(50, 5)\n",
    "\n",
    "    def forward(self, x):\n",
    "        x = torch.relu(self.fc1(x))\n",
    "        x = self.fc2(x)\n",
    "        return x\n",
    "model = NeuralNetwork()"
   ]
  },
  {
   "cell_type": "code",
   "execution_count": 52,
   "metadata": {},
   "outputs": [],
   "source": [
    "#Loss function and optimizer\n",
    "criterion = nn.CrossEntropyLoss()\n",
    "optimizer = torch.optim.SGD(model.parameters(), lr = 0.1)"
   ]
  },
  {
   "cell_type": "code",
   "execution_count": 53,
   "metadata": {},
   "outputs": [
    {
     "name": "stdout",
     "output_type": "stream",
     "text": [
      "Epoch [0/2000], Loss: 1.6336\n",
      "Epoch [200/2000], Loss: 0.4242\n",
      "Epoch [400/2000], Loss: 0.2032\n",
      "Epoch [600/2000], Loss: 0.1196\n",
      "Epoch [800/2000], Loss: 0.0813\n",
      "Epoch [1000/2000], Loss: 0.0606\n",
      "Epoch [1200/2000], Loss: 0.0478\n",
      "Epoch [1400/2000], Loss: 0.0393\n",
      "Epoch [1600/2000], Loss: 0.0333\n",
      "Epoch [1800/2000], Loss: 0.0288\n"
     ]
    }
   ],
   "source": [
    "#Training\n",
    "num_epochs = 2000\n",
    "for epoch in range(num_epochs):\n",
    "    #We calculate graidents again after having taken a step\n",
    "    optimizer.zero_grad()\n",
    "    outputs = model(features_train_tensor)\n",
    "    loss = criterion(outputs, labels_train_tensor)\n",
    "    loss.backward() #backpropagation\n",
    "    optimizer.step() #Updates the weights \n",
    "    \n",
    "    if (epoch % 200 == 0):\n",
    "        print(f'Epoch [{epoch}/{num_epochs}], Loss: {loss.item():.4f}')"
   ]
  },
  {
   "cell_type": "code",
   "execution_count": 54,
   "metadata": {},
   "outputs": [
    {
     "data": {
      "text/plain": [
       "1.0"
      ]
     },
     "execution_count": 54,
     "metadata": {},
     "output_type": "execute_result"
    }
   ],
   "source": [
    "def check_accuracy(model, features, labels):\n",
    "    model.eval()\n",
    "    with torch.no_grad():\n",
    "        outputs = model(features)\n",
    "        max_values, predicted = torch.max(outputs.data, 1)\n",
    "        accuracy = (predicted == labels).sum().item() / labels.size(0)\n",
    "\n",
    "    return accuracy\n",
    "\n",
    "check_accuracy(model, features_test_tensor, labels_test_tensor)"
   ]
  },
  {
   "cell_type": "code",
   "execution_count": 55,
   "metadata": {},
   "outputs": [
    {
     "name": "stdout",
     "output_type": "stream",
     "text": [
      "Accuracy on Test Data: 100.00%\n"
     ]
    }
   ],
   "source": [
    "#Test\n",
    "model.eval()\n",
    "with torch.no_grad():\n",
    "    test_outputs = model(features_test_tensor)\n",
    "    _, predicted = torch.max(test_outputs, 1)\n",
    "\n",
    "    correct = (predicted == labels_test_tensor).sum().item()\n",
    "    accuracy = correct / labels_test_tensor.size(0)\n",
    "    \n",
    "    # Print the accuracy\n",
    "    print(f'Accuracy on Test Data: {accuracy * 100:.2f}%')"
   ]
  }
 ],
 "metadata": {
  "kernelspec": {
   "display_name": "base",
   "language": "python",
   "name": "python3"
  },
  "language_info": {
   "codemirror_mode": {
    "name": "ipython",
    "version": 3
   },
   "file_extension": ".py",
   "mimetype": "text/x-python",
   "name": "python",
   "nbconvert_exporter": "python",
   "pygments_lexer": "ipython3",
   "version": "3.11.7"
  }
 },
 "nbformat": 4,
 "nbformat_minor": 2
}
