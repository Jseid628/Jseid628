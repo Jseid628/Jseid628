{
 "cells": [
  {
   "cell_type": "code",
   "execution_count": null,
   "metadata": {},
   "outputs": [],
   "source": [
    "import numpy as np\n",
    "import pandas as pd\n",
    "import torch\n",
    "from sklearn.preprocessing import LabelEncoder\n",
    "from sklearn.preprocessing import MinMaxScaler\n",
    "from sklearn.model_selection import train_test_split\n",
    "import torch.nn as nn"
   ]
  },
  {
   "cell_type": "code",
   "execution_count": null,
   "metadata": {},
   "outputs": [],
   "source": [
    "data = pd.read_csv(\"/Users/jesseseid/Jseid628/avocado_ripeness_dataset.csv\")\n",
    "data.head()"
   ]
  },
  {
   "cell_type": "code",
   "execution_count": null,
   "metadata": {},
   "outputs": [],
   "source": [
    "#Pre-processing\n",
    "\n",
    "#Categorical to Numerical\n",
    "le = LabelEncoder()\n",
    "data['color_category'] = le.fit_transform(data['color_category'])\n",
    "\n",
    "ripe_types = data['ripeness'].unique()\n",
    "data['ripeness'].replace(ripe_types, list(range(0,5)), inplace=True)\n",
    "\n",
    "labels = data['ripeness']\n",
    "del data['ripeness']\n",
    "features = data\n",
    "data.head()"
   ]
  },
  {
   "cell_type": "code",
   "execution_count": null,
   "metadata": {},
   "outputs": [],
   "source": [
    "#Split into test and train before conversion to tensors\n",
    "features_train, features_test, labels_train, labels_test = train_test_split(features, labels, test_size = 0.2, random_state=42)\n",
    "\n",
    "scaler = MinMaxScaler()\n",
    "features_train_scaled = scaler.fit_transform(features_train)\n",
    "features_test_scaled = scaler.transform(features_test)\n",
    "\n",
    "#Convert features and labels to torch tensors\n",
    "features_train_tensor = torch.tensor(features_train_scaled, dtype=torch.float32)\n",
    "features_test_tensor = torch.tensor(features_test_scaled, dtype=torch.float32)\n",
    "\n",
    "labels_train_tensor = torch.tensor(labels_train.values, dtype=torch.int64)\n",
    "labels_test_tensor = torch.tensor(labels_test.values, dtype=torch.int64)\n",
    "\n",
    "test_train_tensors = [features_train_tensor,features_test_tensor, labels_train_tensor, labels_test_tensor]\n",
    "for tensor in test_train_tensors:\n",
    "    print(str(tensor.shape))"
   ]
  },
  {
   "cell_type": "code",
   "execution_count": null,
   "metadata": {},
   "outputs": [],
   "source": [
    "#Neural Network Definition\n",
    "class NeuralNetwork(nn.Module):\n",
    "    def __init__(self):\n",
    "        super().__init__()\n",
    "        self.fc1 = nn.Linear(8, 50)\n",
    "        self.fc2 = nn.Linear(50, 5)\n",
    "\n",
    "    def forward(self, x):\n",
    "        x = torch.relu(self.fc1(x))\n",
    "        x = self.fc2(x)\n",
    "        return x\n",
    "model = NeuralNetwork()"
   ]
  },
  {
   "cell_type": "code",
   "execution_count": null,
   "metadata": {},
   "outputs": [],
   "source": [
    "#Loss function and optimizer\n",
    "criterion = nn.CrossEntropyLoss()\n",
    "optimizer = torch.optim.SGD(model.parameters(), lr = 0.1)"
   ]
  },
  {
   "cell_type": "code",
   "execution_count": null,
   "metadata": {},
   "outputs": [],
   "source": [
    "#Training\n",
    "num_epochs = 2000\n",
    "for epoch in range(num_epochs):\n",
    "    #We calculate graidents again after having taken a step\n",
    "    optimizer.zero_grad()\n",
    "    outputs = model(features_train_tensor)\n",
    "    loss = criterion(outputs, labels_train_tensor)\n",
    "    loss.backward() #backpropagation\n",
    "    optimizer.step() #Updates the weights \n",
    "    \n",
    "    if (epoch % 200 == 0):\n",
    "        print(f'Epoch [{epoch}/{num_epochs}], Loss: {loss.item():.4f}')"
   ]
  },
  {
   "cell_type": "code",
   "execution_count": null,
   "metadata": {},
   "outputs": [],
   "source": [
    "#Test - 1\n",
    "def check_accuracy(model, features, labels):\n",
    "    model.eval()\n",
    "    with torch.no_grad():\n",
    "        outputs = model(features)\n",
    "        #outputs = model(features)\n",
    "        max_values, predicted = torch.max(outputs.data, 1)\n",
    "        accuracy = (predicted == labels).sum().item() / labels.size(0)\n",
    "\n",
    "    return accuracy\n",
    "\n",
    "check_accuracy(model, features_test_tensor, labels_test_tensor)"
   ]
  },
  {
   "cell_type": "code",
   "execution_count": null,
   "metadata": {},
   "outputs": [],
   "source": [
    "#Test - 2\n",
    "model.eval()\n",
    "with torch.no_grad():\n",
    "    test_outputs = model(features_test_tensor)\n",
    "    _, predicted = torch.max(test_outputs, 1)\n",
    "\n",
    "    correct = (predicted == labels_test_tensor).sum().item()\n",
    "    accuracy = correct / labels_test_tensor.size(0)\n",
    "    \n",
    "    # Print the accuracy\n",
    "    print(f'Accuracy on Test Data: {accuracy * 100:.2f}%')"
   ]
  }
 ],
 "metadata": {
  "kernelspec": {
   "display_name": "base",
   "language": "python",
   "name": "python3"
  },
  "language_info": {
   "codemirror_mode": {
    "name": "ipython",
    "version": 3
   },
   "file_extension": ".py",
   "mimetype": "text/x-python",
   "name": "python",
   "nbconvert_exporter": "python",
   "pygments_lexer": "ipython3",
   "version": "3.11.7"
  }
 },
 "nbformat": 4,
 "nbformat_minor": 2
}
