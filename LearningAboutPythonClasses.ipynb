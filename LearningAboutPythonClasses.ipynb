{
 "cells": [
  {
   "cell_type": "code",
   "execution_count": 5,
   "metadata": {},
   "outputs": [
    {
     "ename": "TypeError",
     "evalue": "super() argument 1 must be type, not str",
     "output_type": "error",
     "traceback": [
      "\u001b[0;31m---------------------------------------------------------------------------\u001b[0m",
      "\u001b[0;31mTypeError\u001b[0m                                 Traceback (most recent call last)",
      "Cell \u001b[0;32mIn[5], line 34\u001b[0m\n\u001b[1;32m     31\u001b[0m         \u001b[38;5;28mprint\u001b[39m(\u001b[38;5;124mf\u001b[39m\u001b[38;5;124m\"\u001b[39m\u001b[38;5;124mCustomer 1: \u001b[39m\u001b[38;5;132;01m{\u001b[39;00mcustomer1\u001b[38;5;241m.\u001b[39mfirstname\u001b[38;5;132;01m}\u001b[39;00m\u001b[38;5;124m hunger level: \u001b[39m\u001b[38;5;132;01m{\u001b[39;00mcustomer1\u001b[38;5;241m.\u001b[39mhungry\u001b[38;5;132;01m}\u001b[39;00m\u001b[38;5;124m\"\u001b[39m)\n\u001b[1;32m     32\u001b[0m         \u001b[38;5;28mprint\u001b[39m(\u001b[38;5;124mf\u001b[39m\u001b[38;5;124m\"\u001b[39m\u001b[38;5;124mCustomer 2: \u001b[39m\u001b[38;5;132;01m{\u001b[39;00mcustomer2\u001b[38;5;241m.\u001b[39mfirstname\u001b[38;5;132;01m}\u001b[39;00m\u001b[38;5;124m hunger level: \u001b[39m\u001b[38;5;132;01m{\u001b[39;00mcustomer2\u001b[38;5;241m.\u001b[39mhungry\u001b[38;5;132;01m}\u001b[39;00m\u001b[38;5;124m\"\u001b[39m)\n\u001b[0;32m---> 34\u001b[0m John \u001b[38;5;241m=\u001b[39m Customer(\u001b[38;5;124m\"\u001b[39m\u001b[38;5;124mJohn\u001b[39m\u001b[38;5;124m\"\u001b[39m, \u001b[38;5;124m\"\u001b[39m\u001b[38;5;124mDoe\u001b[39m\u001b[38;5;124m\"\u001b[39m, \u001b[38;5;241m9\u001b[39m, \u001b[38;5;241m2\u001b[39m)\n\u001b[1;32m     35\u001b[0m Anne \u001b[38;5;241m=\u001b[39m Customer(\u001b[38;5;124m\"\u001b[39m\u001b[38;5;124mAnne\u001b[39m\u001b[38;5;124m\"\u001b[39m, \u001b[38;5;124m\"\u001b[39m\u001b[38;5;124mSmith\u001b[39m\u001b[38;5;124m\"\u001b[39m, \u001b[38;5;241m5\u001b[39m, \u001b[38;5;241m8\u001b[39m)\n\u001b[1;32m     37\u001b[0m John\u001b[38;5;241m.\u001b[39mprintname()\n",
      "Cell \u001b[0;32mIn[5], line 23\u001b[0m, in \u001b[0;36mCustomer.__init__\u001b[0;34m(self, fname, lname, hunger, thirst)\u001b[0m\n\u001b[1;32m     22\u001b[0m \u001b[38;5;28;01mdef\u001b[39;00m \u001b[38;5;21m__init__\u001b[39m(\u001b[38;5;28mself\u001b[39m, fname, lname, hunger, thirst):\n\u001b[0;32m---> 23\u001b[0m     \u001b[38;5;28msuper\u001b[39m(Person)\u001b[38;5;241m.\u001b[39m\u001b[38;5;21m__init__\u001b[39m(fname, lname)\n\u001b[1;32m     24\u001b[0m     \u001b[38;5;28mself\u001b[39m\u001b[38;5;241m.\u001b[39mhungry \u001b[38;5;241m=\u001b[39m hunger\n\u001b[1;32m     25\u001b[0m     \u001b[38;5;28mself\u001b[39m\u001b[38;5;241m.\u001b[39mthirsty \u001b[38;5;241m=\u001b[39m thirst\n",
      "\u001b[0;31mTypeError\u001b[0m: super() argument 1 must be type, not str"
     ]
    }
   ],
   "source": [
    "class Person:\n",
    "    #Constructor\n",
    "    def __init__(self, fname, lname):\n",
    "        self.firstname = fname\n",
    "        self.lastname = lname\n",
    "\n",
    "    #Method 1\n",
    "    def printname(self):\n",
    "        print(self.firstname, self.lastname)\n",
    "    \n",
    "    #Method 2\n",
    "    def needs(self):\n",
    "        print(\"Amount \" +self.firstname + \" needs food: \" + self.hungry)\n",
    "    \n",
    "    #Method 3\n",
    "    def namelength(self):\n",
    "        print(len(self.firstname), len(self.thirsty))\n",
    "\n",
    "#-------------------------------------------------------------------------------------\n",
    "\n",
    "\n",
    "class Customer(Person):\n",
    "    #Constructor (Inherits from Person class)\n",
    "    def __init__(self, fname, lname, hunger, thirst):\n",
    "        super().__init__(fname, lname)\n",
    "        self.hungry = hunger\n",
    "        self.thirsty = thirst\n",
    "    \n",
    "    #No Customer methods\n",
    "\n",
    "\n",
    "def compare_customers(customer1, customer2):\n",
    "        print(f\"Customer 1: {customer1.firstname} hunger level: {customer1.hungry}\")\n",
    "        print(f\"Customer 2: {customer2.firstname} hunger level: {customer2.hungry}\")\n",
    "\n",
    "John = Customer(\"John\", \"Doe\", 9, 2)\n",
    "Anne = Customer(\"Anne\", \"Smith\", 5, 8)\n",
    "\n",
    "John.printname()\n",
    "compare_customers(John, Anne)\n"
   ]
  }
 ],
 "metadata": {
  "kernelspec": {
   "display_name": "base",
   "language": "python",
   "name": "python3"
  },
  "language_info": {
   "codemirror_mode": {
    "name": "ipython",
    "version": 3
   },
   "file_extension": ".py",
   "mimetype": "text/x-python",
   "name": "python",
   "nbconvert_exporter": "python",
   "pygments_lexer": "ipython3",
   "version": "3.11.7"
  }
 },
 "nbformat": 4,
 "nbformat_minor": 2
}
