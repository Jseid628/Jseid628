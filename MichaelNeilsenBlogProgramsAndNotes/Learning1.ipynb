{
 "cells": [
  {
   "cell_type": "code",
   "execution_count": 6,
   "metadata": {},
   "outputs": [],
   "source": [
    "#Importing / Shaping dataset\n",
    "import numpy as np\n",
    "import tensorflow as tf\n",
    "(training_inputs, training_results), (test_inputs, test_data) = tf.keras.datasets.mnist.load_data()\n"
   ]
  },
  {
   "cell_type": "code",
   "execution_count": 7,
   "metadata": {},
   "outputs": [
    {
     "name": "stdout",
     "output_type": "stream",
     "text": [
      "5\n"
     ]
    }
   ],
   "source": [
    "print(training_results[0])"
   ]
  },
  {
   "cell_type": "code",
   "execution_count": 8,
   "metadata": {},
   "outputs": [],
   "source": [
    "\n",
    "def vectorized_result(j):\n",
    "    #One Hot Encoding\n",
    "    e = np.zeros((10, 1))\n",
    "    e[j] = 1.0\n",
    "    return e\n",
    "\n",
    "training_inputs = [np.reshape(x, (784, 1)) / 255 for x in training_inputs]\n",
    "training_results = [vectorized_result(y) for y in training_results]\n",
    "\n",
    "test_inputs = [np.reshape(x, (784, 1)) / 255 for x in test_inputs]\n",
    "test_results = [vectorized_result(y) for y in test_data]\n",
    "\n",
    "training_data = list(zip(training_inputs, training_results))\n",
    "test_data = list(zip(test_inputs, test_results))\n",
    "\n"
   ]
  },
  {
   "cell_type": "code",
   "execution_count": 10,
   "metadata": {},
   "outputs": [
    {
     "name": "stdout",
     "output_type": "stream",
     "text": [
      "[[0.]\n",
      " [0.]\n",
      " [0.]\n",
      " [0.]\n",
      " [0.]\n",
      " [1.]\n",
      " [0.]\n",
      " [0.]\n",
      " [0.]\n",
      " [0.]]\n"
     ]
    }
   ],
   "source": [
    "print(training_results[0])"
   ]
  },
  {
   "cell_type": "code",
   "execution_count": 3,
   "metadata": {},
   "outputs": [],
   "source": [
    "class Network(object):\n",
    "    #The constructor\n",
    "    def __init__(self, sizes):\n",
    "        self.num_layers = len(sizes)\n",
    "        self.sizes = sizes\n",
    "        self.biases = [np.random.randn(y, 1) for y in sizes[1:]]\n",
    "        self.weights = [np.random.randn(y, x) for x, y in zip(sizes[:-1], sizes[1:])]\n",
    "\n",
    "    def feedforward(self, a):\n",
    "        for b, w in zip(self.biases, self.weights):\n",
    "            a = sigmoid(np.dot(w, a) + b)\n",
    "        return a\n",
    "\n",
    "    def SGD(self, training_data, epochs, mini_batch_size, eta, test_data=None):\n",
    "        #if there is test_data, then n_test is the number of elements in test_data\n",
    "        if test_data: n_test = len(test_data)\n",
    "        n = len(training_data)\n",
    "        for j in range(epochs):\n",
    "            np.random.shuffle(training_data)\n",
    "            #produces mini batches of size mini_batch_size\n",
    "            mini_batches = [training_data[k:k+mini_batch_size] for k in range(0, n, mini_batch_size)]\n",
    "            for mini_batch in mini_batches:\n",
    "                self.update_mini_batch(mini_batch, eta)\n",
    "            if test_data:\n",
    "                print(\"Epoch {:} / {:} / {:}\".format(j, self.evaluate(test_data), n_test))\n",
    "            else:\n",
    "                print(\"Epoch{:} complete\".format(j))\n",
    "\n",
    "    def update_mini_batch(self, mini_batch, eta):\n",
    "        nabla_w = [np.zeros(w.shape) for w in self.weights]\n",
    "        nabla_b = [np.zeros(b.shape) for b in self.biases]\n",
    "        for x, y in mini_batch:\n",
    "            #We can see that backprop() takes inputs x, y which have shape (784, 1) and (10, 1) respectively.\n",
    "            delta_nabla_b, delta_nabla_w = self.backprop(x, y)\n",
    "            nabla_b = [nb+dnb for nb, dnb in zip(nabla_b, delta_nabla_b)]\n",
    "            nabla_w = [nw+dnw for nw, dnw in zip(nabla_w, delta_nabla_w)]\n",
    "        self.biases = [b - (eta/len(mini_batch)) * nb for b, nb in zip(self.biases, nabla_b)]\n",
    "        self.weights = [w - (eta/len(mini_batch)) * nw for w, nw in zip(self.weights, nabla_w)]\n",
    "\n",
    "    def backprop(self, x, y):\n",
    "        #Each element of this list is a vector. Its length is the number of nodes, which is just the number of biases.\n",
    "        nabla_b = [np.zeros(b.shape) for b in self.biases]\n",
    "        nabla_w = [np.zeros(w.shape) for w in self.weights]\n",
    "\n",
    "        #feedforward\n",
    "        activation = x\n",
    "        #Stores all the activations, layer by layer\n",
    "        activations = [x]\n",
    "        zs = []\n",
    "        for b, w in zip(self.biases, self.weights):\n",
    "            z = np.dot(w, activation) + b\n",
    "            zs.append(z)\n",
    "            activation = sigmoid(z)\n",
    "            activations.append(activation)\n",
    "\n",
    "        #backward pass\n",
    "        #Calculate delta for the last layer, L\n",
    "        delta = self.cost_derivative(activations[-1], y) * sigmoid_prime(zs[-1])\n",
    "        nabla_b[-1] = delta\n",
    "        nabla_w[-1] = np.dot(delta, activations[-2].T)\n",
    "\n",
    "        #We already did the case where l = 1. That's just the last layer. Now we are considering l = 2 through l = self.num_layers - 1\n",
    "        #Does not evaluate the case where l = self.num_layers\n",
    "        for l in range(2, self.num_layers):\n",
    "            z = zs[-l]\n",
    "            sp = sigmoid_prime(z)\n",
    "            delta = np.dot(self.weights[-l+1].T, delta) * sp\n",
    "            nabla_b[-l] = delta\n",
    "            nabla_w[-l] = np.dot(delta, activations[-l-1].T)\n",
    "        return(nabla_b, nabla_w)\n",
    "\n",
    "    def evaluate(self, test_data):\n",
    "        test_results = [(np.argmax(self.feedforward(x)), np.argmax(y)) for (x,y) in test_data]\n",
    "        return sum(int(x == y) for (x,y) in test_results)\n",
    "\n",
    "    def cost_derivative(self, output_activations, y):\n",
    "            return (output_activations - y)\n",
    "\n",
    "def sigmoid(z):\n",
    "    return 1.0 / (1.0 + np.exp(-z))\n",
    "\n",
    "def sigmoid_prime(z):\n",
    "    return sigmoid(z) * (1-sigmoid(z))\n"
   ]
  },
  {
   "cell_type": "code",
   "execution_count": 4,
   "metadata": {},
   "outputs": [
    {
     "name": "stdout",
     "output_type": "stream",
     "text": [
      "Epoch 0 / 7485 / 10000\n",
      "Epoch 1 / 7608 / 10000\n",
      "Epoch 2 / 7675 / 10000\n",
      "Epoch 3 / 8470 / 10000\n",
      "Epoch 4 / 8576 / 10000\n",
      "Epoch 5 / 8554 / 10000\n",
      "Epoch 6 / 8620 / 10000\n",
      "Epoch 7 / 8611 / 10000\n",
      "Epoch 8 / 8628 / 10000\n",
      "Epoch 9 / 8639 / 10000\n",
      "Epoch 10 / 8639 / 10000\n",
      "Epoch 11 / 8665 / 10000\n",
      "Epoch 12 / 8689 / 10000\n",
      "Epoch 13 / 8654 / 10000\n",
      "Epoch 14 / 8669 / 10000\n",
      "Epoch 15 / 8703 / 10000\n",
      "Epoch 16 / 8692 / 10000\n",
      "Epoch 17 / 8698 / 10000\n",
      "Epoch 18 / 8712 / 10000\n",
      "Epoch 19 / 8707 / 10000\n",
      "Epoch 20 / 8689 / 10000\n",
      "Epoch 21 / 8568 / 10000\n",
      "Epoch 22 / 8678 / 10000\n",
      "Epoch 23 / 8708 / 10000\n",
      "Epoch 24 / 8707 / 10000\n",
      "Epoch 25 / 8707 / 10000\n",
      "Epoch 26 / 8707 / 10000\n",
      "Epoch 27 / 8735 / 10000\n",
      "Epoch 28 / 8711 / 10000\n",
      "Epoch 29 / 8682 / 10000\n"
     ]
    }
   ],
   "source": [
    "net = Network([784, 50, 100, 10])\n",
    "\n",
    "net.SGD(training_data, 30, 10, 3.0, test_data = test_data)"
   ]
  }
 ],
 "metadata": {
  "kernelspec": {
   "display_name": "Python 3",
   "language": "python",
   "name": "python3"
  },
  "language_info": {
   "codemirror_mode": {
    "name": "ipython",
    "version": 3
   },
   "file_extension": ".py",
   "mimetype": "text/x-python",
   "name": "python",
   "nbconvert_exporter": "python",
   "pygments_lexer": "ipython3",
   "version": "3.12.3"
  }
 },
 "nbformat": 4,
 "nbformat_minor": 2
}
